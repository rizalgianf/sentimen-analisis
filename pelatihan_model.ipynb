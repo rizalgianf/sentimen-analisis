{
 "cells": [
  {
   "cell_type": "code",
   "execution_count": 1,
   "id": "a4aac890",
   "metadata": {},
   "outputs": [
    {
     "name": "stdout",
     "output_type": "stream",
     "text": [
      "Requirement already satisfied: pandas in c:\\users\\rizal\\appdata\\local\\programs\\python\\python313\\lib\\site-packages (2.2.3)"
     ]
    },
    {
     "name": "stderr",
     "output_type": "stream",
     "text": [
      "ERROR: Could not find a version that satisfies the requirement tensorflow==2.11.0 (from versions: none)\n",
      "ERROR: No matching distribution found for tensorflow==2.11.0\n"
     ]
    },
    {
     "name": "stdout",
     "output_type": "stream",
     "text": [
      "\n",
      "Requirement already satisfied: nltk in c:\\users\\rizal\\appdata\\local\\programs\\python\\python313\\lib\\site-packages (3.9.1)\n",
      "Collecting gensim\n",
      "  Using cached gensim-4.3.3.tar.gz (23.3 MB)\n",
      "  Installing build dependencies: started\n",
      "  Installing build dependencies: finished with status 'done'\n",
      "  Getting requirements to build wheel: started\n",
      "  Getting requirements to build wheel: finished with status 'done'\n",
      "  Preparing metadata (pyproject.toml): started\n",
      "  Preparing metadata (pyproject.toml): finished with status 'done'\n",
      "Requirement already satisfied: scikit-learn in c:\\users\\rizal\\appdata\\local\\programs\\python\\python313\\lib\\site-packages (1.6.1)\n"
     ]
    }
   ],
   "source": [
    "!pip install pandas nltk gensim scikit-learn tensorflow==2.11.0\n"
   ]
  },
  {
   "cell_type": "code",
   "execution_count": null,
   "id": "f3f24d72",
   "metadata": {},
   "outputs": [],
   "source": [
    "import pandas as pd\n",
    "import re\n",
    "from nltk.tokenize import word_tokenize\n",
    "from sklearn.model_selection import train_test_split\n",
    "from sklearn.feature_extraction.text import TfidfVectorizer\n",
    "from sklearn.svm import SVC\n",
    "from sklearn.metrics import accuracy_score\n",
    "from gensim.models import Word2Vec\n",
    "import numpy as np\n",
    "\n",
    "# Memuat dataset\n",
    "file_path = '/mnt/data/comments_data.csv'\n",
    "data = pd.read_csv(file_path)\n",
    "\n",
    "# Mengambil kolom 'Comment' dan menampilkan 5 baris pertama\n",
    "comments = data['Comment']\n",
    "comments.head()\n"
   ]
  },
  {
   "cell_type": "code",
   "execution_count": null,
   "id": "4efbd709",
   "metadata": {},
   "outputs": [],
   "source": []
  },
  {
   "cell_type": "code",
   "execution_count": null,
   "id": "bf63aa0f",
   "metadata": {},
   "outputs": [],
   "source": []
  }
 ],
 "metadata": {
  "kernelspec": {
   "display_name": "Python 3",
   "language": "python",
   "name": "python3"
  },
  "language_info": {
   "codemirror_mode": {
    "name": "ipython",
    "version": 3
   },
   "file_extension": ".py",
   "mimetype": "text/x-python",
   "name": "python",
   "nbconvert_exporter": "python",
   "pygments_lexer": "ipython3",
   "version": "3.10.6"
  }
 },
 "nbformat": 4,
 "nbformat_minor": 5
}
